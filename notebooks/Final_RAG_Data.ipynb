{
  "nbformat": 4,
  "nbformat_minor": 0,
  "metadata": {
    "colab": {
      "provenance": []
    },
    "kernelspec": {
      "name": "python3",
      "display_name": "Python 3"
    },
    "language_info": {
      "name": "python"
    }
  },
  "cells": [
    {
      "cell_type": "code",
      "execution_count": null,
      "metadata": {
        "id": "OOkfnwiZ1XTd"
      },
      "outputs": [],
      "source": [
        "import pandas as pd\n",
        "\n",
        "# Read the merged dataset file\n",
        "df = pd.read_csv(\"merged_cutoffs.csv\")\n",
        "\n",
        "# Print basic info and first few rows to check data presence and columns\n",
        "print(\"Dataset Info:\")\n",
        "print(df.info())\n",
        "\n",
        "print(\"\\nSample rows:\")\n",
        "print(df.head())\n",
        "\n",
        "# Optionally, check for missing values summary\n",
        "print(\"\\nMissing values per column:\")\n",
        "print(df.isnull().sum())\n",
        "\n",
        "# Check columns to verify expected fields\n",
        "print(\"\\nColumns:\")\n",
        "print(df.columns.tolist())\n"
      ]
    },
    {
      "cell_type": "code",
      "source": [
        "# Capitalize first letter of each column\n",
        "df.columns = df.columns.str.capitalize()\n",
        "\n",
        "print(df.columns.tolist())\n"
      ],
      "metadata": {
        "id": "4PzSfgQs1YgP"
      },
      "execution_count": null,
      "outputs": []
    },
    {
      "cell_type": "code",
      "source": [
        "import pandas as pd\n",
        "\n",
        "# Read fees dataset\n",
        "fees = pd.read_csv(\"fees.csv\")\n",
        "print(\"Fees Data Sample:\")\n",
        "print(fees.head())\n",
        "\n",
        "print(\"\\nFees Dataset Info:\")\n",
        "print(fees.info())\n",
        "\n",
        "# Read placements dataset\n",
        "placements = pd.read_csv(\"placements.csv\")\n",
        "print(\"\\nPlacements Data Sample:\")\n",
        "print(placements.head())\n",
        "\n",
        "print(\"\\nPlacements Dataset Info:\")\n",
        "print(placements.info())\n"
      ],
      "metadata": {
        "id": "shpWupXm1YiJ"
      },
      "execution_count": null,
      "outputs": []
    },
    {
      "cell_type": "code",
      "source": [
        "import pandas as pd\n",
        "\n",
        "# Load your CSVs\n",
        "cutoffs_df = pd.read_csv(\"merged_cutoffs.csv\")\n",
        "fees_df = pd.read_csv(\"fees.csv\")\n",
        "placements_df = pd.read_csv(\"placements.csv\")\n",
        "\n",
        "# Check the column names exactly\n",
        "print(\"Cutoffs columns:\", cutoffs_df.columns.tolist())\n",
        "print(\"Fees columns:\", fees_df.columns.tolist())\n",
        "print(\"Placements columns:\", placements_df.columns.tolist())\n"
      ],
      "metadata": {
        "id": "i55wuMzT1Yks"
      },
      "execution_count": null,
      "outputs": []
    },
    {
      "cell_type": "code",
      "source": [
        "import pandas as pd\n",
        "\n",
        "# Load original cutoffs\n",
        "cutoffs_df = pd.read_csv(\"merged_cutoffs.csv\")  # your original file\n",
        "\n",
        "# Capitalize first letter of each column\n",
        "cutoffs_df.columns = cutoffs_df.columns.str.capitalize()\n",
        "\n",
        "# Save as new CSV\n",
        "cutoffs_df.to_csv(\"cutoff.csv\", index=False)\n",
        "\n",
        "print(\"New dataset 'cutoff.csv' created with columns:\")\n",
        "print(cutoffs_df.columns.tolist())\n"
      ],
      "metadata": {
        "id": "uDDaVaOh1YnJ"
      },
      "execution_count": null,
      "outputs": []
    },
    {
      "cell_type": "code",
      "source": [
        "import pandas as pd\n",
        "\n",
        "# Load datasets\n",
        "cutoffs_df = pd.read_csv(\"cutoff.csv\")\n",
        "fees_df = pd.read_csv(\"fees.csv\")\n",
        "placements_df = pd.read_csv(\"placements.csv\")\n",
        "\n",
        "# Show samples\n",
        "print(\"=== Cutoffs Sample ===\")\n",
        "print(cutoffs_df.head(10))\n",
        "print(\"\\nColumns:\", cutoffs_df.columns.tolist())\n",
        "\n",
        "print(\"\\n=== Fees Sample ===\")\n",
        "print(fees_df.head(10))\n",
        "print(\"\\nColumns:\", fees_df.columns.tolist())\n",
        "\n",
        "print(\"\\n=== Placements Sample ===\")\n",
        "print(placements_df.head(10))\n",
        "print(\"\\nColumns:\", placements_df.columns.tolist())\n"
      ],
      "metadata": {
        "id": "tF_XKnFz1YoJ"
      },
      "execution_count": null,
      "outputs": []
    },
    {
      "cell_type": "code",
      "source": [
        "import pandas as pd\n",
        "\n",
        "# Load datasets\n",
        "cutoffs_df = pd.read_csv(\"cutoff.csv\")\n",
        "fees_df = pd.read_csv(\"fees.csv\")\n",
        "placements_df = pd.read_csv(\"placements.csv\")\n",
        "\n",
        "# 1️⃣ Filter only 2024 and 2025\n",
        "cutoffs_df = cutoffs_df[cutoffs_df['Year'].isin([2024, 2025])]\n",
        "fees_df = fees_df[fees_df['Year'].isin([2024, 2025])]\n",
        "placements_df = placements_df[placements_df['Year'].isin([2024, 2025])]\n",
        "\n",
        "# 2️⃣ Standardize strings for merge\n",
        "for df in [cutoffs_df, fees_df, placements_df]:\n",
        "    for col in ['College', 'Branch', 'Exam']:\n",
        "        if col in df.columns:\n",
        "            df[col] = df[col].str.strip().str.upper()\n",
        "\n",
        "# 3️⃣ Merge Cutoffs + Fees\n",
        "merged_cutoffs = pd.merge(\n",
        "    cutoffs_df,\n",
        "    fees_df,\n",
        "    on=[\"College\", \"Branch\", \"Exam\", \"Year\"],\n",
        "    how=\"left\"\n",
        ")\n",
        "\n",
        "# 4️⃣ Merge with Placements (no Exam column)\n",
        "master_df = pd.merge(\n",
        "    merged_cutoffs,\n",
        "    placements_df,\n",
        "    on=[\"College\", \"Branch\", \"Year\"],\n",
        "    how=\"left\"\n",
        ")\n",
        "\n",
        "# 5️⃣ Inspect results\n",
        "print(\"Shape after filtering and merging:\", master_df.shape)\n",
        "print(master_df.head(10))\n"
      ],
      "metadata": {
        "id": "CVkIM5V01Ypz"
      },
      "execution_count": null,
      "outputs": []
    },
    {
      "cell_type": "code",
      "source": [
        "print(master_df.columns.tolist())\n"
      ],
      "metadata": {
        "id": "WkVZLS_91Yqz"
      },
      "execution_count": null,
      "outputs": []
    },
    {
      "cell_type": "code",
      "source": [
        "import pandas as pd\n",
        "\n",
        "# Assume master_df is already in memory\n",
        "# Remove duplicates\n",
        "master_df = master_df.drop_duplicates(\n",
        "    subset=['College', 'Branch', 'Year', 'Category', 'Exam'], keep='first'\n",
        ")\n",
        "\n",
        "# Check for nulls\n",
        "print(\"Null / NaN counts per column:\")\n",
        "print(master_df.isnull().sum())\n",
        "\n",
        "# Fill numeric NaNs with 0\n",
        "numeric_cols = ['Tuition_Fee', 'Hostel_Fee', 'Misc_Fee', 'OneTime_Fee',\n",
        "                'Total_First_Year', 'Total_Annual', 'Avg_Package_LPA', 'Max_Package_LPA', 'NIRF_Rank']\n",
        "master_df[numeric_cols] = master_df[numeric_cols].fillna(0)\n",
        "\n",
        "# Fill categorical NaNs with 'Unknown'\n",
        "categorical_cols = ['Scholarship_Eligible', 'Top_Companies']\n",
        "master_df[categorical_cols] = master_df[categorical_cols].fillna('Unknown')\n",
        "\n",
        "# Save final cleaned dataset\n",
        "master_df.to_csv(\"final_rag.csv\", index=False)\n",
        "print(\"Final dataset saved as 'final_rag.csv'. Shape:\", master_df.shape)\n"
      ],
      "metadata": {
        "id": "Ne1NZpCw1YsB"
      },
      "execution_count": null,
      "outputs": []
    },
    {
      "cell_type": "code",
      "source": [
        "import pandas as pd\n",
        "\n",
        "# Load the final cleaned dataset\n",
        "df = pd.read_csv(\"final_rag.csv\")\n",
        "\n",
        "# Quick overview\n",
        "print(\"Shape:\", df.shape)\n",
        "print(\"\\nColumns:\", df.columns.tolist())\n",
        "print(\"\\nData types:\\n\", df.dtypes)\n",
        "print(\"\\nFirst 10 rows:\\n\", df.head(10))\n",
        "print(\"\\nNull / NaN counts per column:\\n\", df.isnull().sum())\n"
      ],
      "metadata": {
        "id": "2Mtbh-mJ1YtA"
      },
      "execution_count": null,
      "outputs": []
    },
    {
      "cell_type": "code",
      "source": [
        "from google.colab import files\n",
        "files.download(\"final_rag.csv\")\n"
      ],
      "metadata": {
        "id": "vy3Wl2v91qZh"
      },
      "execution_count": null,
      "outputs": []
    }
  ]
}