{
  "nbformat": 4,
  "nbformat_minor": 0,
  "metadata": {
    "colab": {
      "provenance": []
    },
    "kernelspec": {
      "name": "python3",
      "display_name": "Python 3"
    },
    "language_info": {
      "name": "python"
    }
  },
  "cells": [
    {
      "cell_type": "code",
      "source": [
        "import pandas as pd\n",
        "import random\n",
        "import os\n",
        "\n",
        "# ========================\n",
        "# 1. Save College Master List (60 top Karnataka colleges)\n",
        "# ========================\n",
        "colleges_info = [\n",
        "    (\"RVCE\", \"R V College of Engineering\", \"Bangalore\"),\n",
        "    (\"BMSCE\", \"B M S College of Engineering\", \"Bangalore\"),\n",
        "    (\"MSRIT\", \"M S Ramaiah Institute of Technology\", \"Bangalore\"),\n",
        "    (\"DSCE\", \"Dayananda Sagar College of Engineering\", \"Bangalore\"),\n",
        "    (\"PESU\", \"PES University\", \"Bangalore\"),\n",
        "    (\"UVCE\", \"University Visvesvaraya College of Engineering\", \"Bangalore\"),\n",
        "    (\"BIT\", \"Bangalore Institute of Technology\", \"Bangalore\"),\n",
        "    (\"KLEIT\", \"K L E Institute of Technology\", \"Hubli\"),\n",
        "    (\"MVJCE\", \"M V J College of Engineering\", \"Bangalore\"),\n",
        "    (\"SIT\", \"Siddaganga Institute of Technology\", \"Tumkur\"),\n",
        "    (\"JSSSTU\", \"JSS Science & Technology University\", \"Mysore\"),\n",
        "    (\"NIE\", \"National Institute of Engineering\", \"Mysore\"),\n",
        "    (\"NHCE\", \"New Horizon College of Engineering\", \"Bangalore\"),\n",
        "    (\"NMIT\", \"Nitte Meenakshi Institute of Technology\", \"Bangalore\"),\n",
        "    (\"BNMIT\", \"B N M Institute of Technology\", \"Bangalore\"),\n",
        "    (\"BMSIT\", \"B M S Institute of Technology & Management\", \"Bangalore\"),\n",
        "    (\"REVA\", \"REVA University\", \"Bangalore\"),\n",
        "    (\"MSRUAS\", \"MS Ramaiah University of Applied Sciences\", \"Bangalore\"),\n",
        "    (\"PESCE\", \"P E S College of Engineering\", \"Mandya\"),\n",
        "    (\"PRES\", \"Presidency University\", \"Bangalore\"),\n",
        "    (\"DSATM\", \"Dayananda Sagar Academy of Technology & Management\", \"Bangalore\"),\n",
        "    (\"RVUNIV\", \"R V University\", \"Bangalore\"),\n",
        "    (\"SDMCET\", \"Sri Dharmasthala Manjunatheshwara College of Engineering & Technology\", \"Dharwad\"),\n",
        "    (\"VVCE\", \"Vidyavardhaka College of Engineering\", \"Mysore\"),\n",
        "    (\"CMRIT\", \"CMR Institute of Technology\", \"Bangalore\"),\n",
        "    (\"SJBIT\", \"S J B Institute of Technology\", \"Bangalore\"),\n",
        "    (\"AIT\", \"Dr Ambedkar Institute of Technology\", \"Bangalore\"),\n",
        "    (\"GIT\", \"Global Institute of Technology\", \"Ramohalli\"),\n",
        "    (\"RNSIT\", \"R V Narsimha Institute of Technology\", \"Bangalore\"),\n",
        "    (\"AEC\", \"Acharya Engineering College\", \"Bangalore\"),\n",
        "    (\"NCET\", \"Nitte Composite Engineering College\", \"Mangalore\"),\n",
        "    (\"SJBCE\", \"St. Joseph Engineering College\", \"Mangalore\"),\n",
        "    (\"AECMandya\", \"Acharya Engineering College, Mandya\", \"Mandya\"),\n",
        "    (\"CITGubbi\", \"CIT Gubbi\", \"Tumkur\"),\n",
        "    (\"GMIT\", \"Govt. ML Khalsa Institute of Technology\", \"Hubli\"),\n",
        "    (\"BMIT\", \"Ballari Institute of Technology & Management\", \"Ballari\"),\n",
        "    (\"KSIT\", \"K S Institute of Technology\", \"Bangalore\"),\n",
        "    (\"YKCE\", \"Yenepoya College of Engineering\", \"Moodbidri\"),\n",
        "    (\"RIT\", \"Rajarajeswari Institute of Technology\", \"Bangalore\"),\n",
        "    (\"SCEM\", \"St Joseph’s College of Engineering\", \"Chikmagalur\"),\n",
        "    (\"JNNCE\", \"JNN College of Engineering\", \"Shimoga\"),\n",
        "    (\"SITM\", \"Sahyadri Institute of Technology & Management\", \"Mangalore\"),\n",
        "    (\"ACU\", \"Acharya College of Engineering\", \"Bangalore\"),\n",
        "    (\"VVIT\", \"Visvesvaraya Vidyalaya College of Engineering\", \"Bangalore\"),\n",
        "    (\"BITM\", \"Basava Institute of Technology & Management\", \"Bagalkot\"),\n",
        "    (\"JIT\", \"Jain Institute of Technology\", \"Davangere\"),\n",
        "    (\"DBIT\", \"Dudhsagar Business Institute of Technology\", \"Bangalore\"),\n",
        "    (\"VemanaIT\", \"Vemana Institute of Technology\", \"Bangalore\"),\n",
        "    (\"AITM\", \"Adichunchanagiri Institute of Technology\", \"Mandya\"),\n",
        "    (\"VIT\", \"Vijayanagara Institute of Technology\", \"Mysore\"),\n",
        "    (\"HKBK\", \"H K Bharadwaj College of Engineering\", \"Bangalore\"),\n",
        "    (\"DrAIT\", \"Dr Ambedkar Institute of Technology\", \"Bangalore\"),\n",
        "    (\"RAIT\", \"Rajarshi College of Engineering\", \"Bangalore\"),\n",
        "    (\"EastPoint\", \"East Point College of Engineering & Technology\", \"Bangalore\"),\n",
        "    (\"VSM\", \"Vidya Vikas Institute of Technology\", \"Hubli\"),\n",
        "    (\"SDMIT\", \"SDM Institute of Technology\", \"Dharmasthala\"),\n",
        "    (\"KLSGIT\", \"KLS Gogte Institute of Technology\", \"Belgaum\")\n",
        "]\n",
        "\n",
        "df_colleges = pd.DataFrame(colleges_info, columns=[\"Code\", \"Name\", \"City\"])\n",
        "df_colleges.to_csv(\"college_list.csv\", index=False)\n",
        "print(\"✅ college_list.csv created with\", len(df_colleges), \"colleges\")\n",
        "\n",
        "# ========================\n",
        "# 2. Generate synthetic cutoff_20XX.csv files (2020–2025)\n",
        "# ========================\n",
        "\n",
        "# Extract only codes\n",
        "colleges = df_colleges[\"Code\"].tolist()\n",
        "\n",
        "# Full branch names used directly\n",
        "branches = [\n",
        "    \"Computer Science and Engineering\",\n",
        "    \"Information Science and Engineering\",\n",
        "    \"Electronics and Communication Engineering\",\n",
        "    \"Electrical and Electronics Engineering\",\n",
        "    \"Mechanical Engineering\",\n",
        "    \"Civil Engineering\",\n",
        "    \"Artificial Intelligence and Data Science\",\n",
        "    \"Biotechnology\",\n",
        "    \"Data Science\",\n",
        "    \"Robotics and Automation Engineering\"\n",
        "]\n",
        "\n",
        "categories = [\"GM\", \"OBC\", \"SC\", \"ST\", \"1G\", \"2A\", \"2B\", \"3A\", \"3B\", \"EWS\", \"GMK\"]\n",
        "rounds = [\"Mock\", \"Round 1\", \"Round 2\", \"Extended\"]\n",
        "years = list(range(2020, 2026))\n",
        "\n",
        "# Output dir\n",
        "os.makedirs(\"cutoff_data\", exist_ok=True)\n",
        "\n",
        "# Rank generator\n",
        "def get_random_rank(branch, category, year):\n",
        "    base = {\n",
        "        \"Computer Science and Engineering\": 2500,\n",
        "        \"Information Science and Engineering\": 4500,\n",
        "        \"Electronics and Communication Engineering\": 6500,\n",
        "        \"Electrical and Electronics Engineering\": 9500,\n",
        "        \"Mechanical Engineering\": 15000,\n",
        "        \"Civil Engineering\": 18000,\n",
        "        \"Artificial Intelligence and Data Science\": 7000,\n",
        "        \"Biotechnology\": 20000,\n",
        "        \"Data Science\": 7200,\n",
        "        \"Robotics and Automation Engineering\": 8000\n",
        "    }[branch]\n",
        "    cat_offset = {\n",
        "        \"GM\": 0, \"OBC\": 2500, \"SC\": 8000, \"ST\": 10000, \"EWS\": 1500, \"GMK\": 1700,\n",
        "        \"1G\": 3000, \"2A\": 2000, \"2B\": 2500, \"3A\": 1500, \"3B\": 1800\n",
        "    }[category]\n",
        "    year_drift = (2025 - year) * 200\n",
        "    return max(100, min(base + cat_offset + year_drift + random.randint(-800, 1200), 100000))\n",
        "\n",
        "# Generate per year\n",
        "for year in years:\n",
        "    rows = []\n",
        "    for clg in colleges:\n",
        "        for branch in branches:\n",
        "            for cat in categories:\n",
        "                for rnd in rounds:\n",
        "                    cutoff = get_random_rank(branch, cat, year)\n",
        "                    rows.append([year, rnd, clg, branch, cat, cutoff])\n",
        "    df = pd.DataFrame(rows, columns=[\"Year\", \"Round\", \"College\", \"Branch\", \"Category\", \"Cutoff_Rank\"])\n",
        "    df.to_csv(f\"cutoff_data/cutoff_{year}.csv\", index=False)\n",
        "    print(f\"✅ cutoff_{year}.csv with {len(df)} rows saved\")\n",
        "\n",
        "print(\"\\n🎯 All KCET synthetic data (2020–2025) with full branch names generated!\")\n"
      ],
      "metadata": {
        "colab": {
          "base_uri": "https://localhost:8080/"
        },
        "id": "oc2Zhxf_ajv0",
        "outputId": "b131dcd0-e4c9-4fbe-a180-50625b2f1b75"
      },
      "execution_count": 2,
      "outputs": [
        {
          "output_type": "stream",
          "name": "stdout",
          "text": [
            "✅ college_list.csv created with 57 colleges\n",
            "✅ cutoff_2020.csv with 25080 rows saved\n",
            "✅ cutoff_2021.csv with 25080 rows saved\n",
            "✅ cutoff_2022.csv with 25080 rows saved\n",
            "✅ cutoff_2023.csv with 25080 rows saved\n",
            "✅ cutoff_2024.csv with 25080 rows saved\n",
            "✅ cutoff_2025.csv with 25080 rows saved\n",
            "\n",
            "🎯 All KCET synthetic data (2020–2025) with full branch names generated!\n"
          ]
        }
      ]
    },
    {
      "cell_type": "code",
      "source": [
        "from google.colab import files\n",
        "files.download(\"college_list.csv\")\n"
      ],
      "metadata": {
        "colab": {
          "base_uri": "https://localhost:8080/",
          "height": 17
        },
        "id": "LAQEgS4Iaj2E",
        "outputId": "2b39ef7b-d3f9-4127-a634-efaba47e66d6"
      },
      "execution_count": 3,
      "outputs": [
        {
          "output_type": "display_data",
          "data": {
            "text/plain": [
              "<IPython.core.display.Javascript object>"
            ],
            "application/javascript": [
              "\n",
              "    async function download(id, filename, size) {\n",
              "      if (!google.colab.kernel.accessAllowed) {\n",
              "        return;\n",
              "      }\n",
              "      const div = document.createElement('div');\n",
              "      const label = document.createElement('label');\n",
              "      label.textContent = `Downloading \"${filename}\": `;\n",
              "      div.appendChild(label);\n",
              "      const progress = document.createElement('progress');\n",
              "      progress.max = size;\n",
              "      div.appendChild(progress);\n",
              "      document.body.appendChild(div);\n",
              "\n",
              "      const buffers = [];\n",
              "      let downloaded = 0;\n",
              "\n",
              "      const channel = await google.colab.kernel.comms.open(id);\n",
              "      // Send a message to notify the kernel that we're ready.\n",
              "      channel.send({})\n",
              "\n",
              "      for await (const message of channel.messages) {\n",
              "        // Send a message to notify the kernel that we're ready.\n",
              "        channel.send({})\n",
              "        if (message.buffers) {\n",
              "          for (const buffer of message.buffers) {\n",
              "            buffers.push(buffer);\n",
              "            downloaded += buffer.byteLength;\n",
              "            progress.value = downloaded;\n",
              "          }\n",
              "        }\n",
              "      }\n",
              "      const blob = new Blob(buffers, {type: 'application/binary'});\n",
              "      const a = document.createElement('a');\n",
              "      a.href = window.URL.createObjectURL(blob);\n",
              "      a.download = filename;\n",
              "      div.appendChild(a);\n",
              "      a.click();\n",
              "      div.remove();\n",
              "    }\n",
              "  "
            ]
          },
          "metadata": {}
        },
        {
          "output_type": "display_data",
          "data": {
            "text/plain": [
              "<IPython.core.display.Javascript object>"
            ],
            "application/javascript": [
              "download(\"download_2a5b35e5-d4bc-4062-9645-39a97d96966b\", \"college_list.csv\", 2830)"
            ]
          },
          "metadata": {}
        }
      ]
    },
    {
      "cell_type": "code",
      "source": [
        "files.download(\"cutoff_data/cutoff_2020.csv\")\n",
        "files.download(\"cutoff_data/cutoff_2021.csv\")\n",
        "files.download(\"cutoff_data/cutoff_2022.csv\")\n",
        "files.download(\"cutoff_data/cutoff_2023.csv\")\n",
        "files.download(\"cutoff_data/cutoff_2024.csv\")\n",
        "files.download(\"cutoff_data/cutoff_2025.csv\")\n"
      ],
      "metadata": {
        "colab": {
          "base_uri": "https://localhost:8080/",
          "height": 17
        },
        "id": "G01E8lyuaj4v",
        "outputId": "0be3f9a7-e318-4033-9e24-ac5e9789e218"
      },
      "execution_count": 4,
      "outputs": [
        {
          "output_type": "display_data",
          "data": {
            "text/plain": [
              "<IPython.core.display.Javascript object>"
            ],
            "application/javascript": [
              "\n",
              "    async function download(id, filename, size) {\n",
              "      if (!google.colab.kernel.accessAllowed) {\n",
              "        return;\n",
              "      }\n",
              "      const div = document.createElement('div');\n",
              "      const label = document.createElement('label');\n",
              "      label.textContent = `Downloading \"${filename}\": `;\n",
              "      div.appendChild(label);\n",
              "      const progress = document.createElement('progress');\n",
              "      progress.max = size;\n",
              "      div.appendChild(progress);\n",
              "      document.body.appendChild(div);\n",
              "\n",
              "      const buffers = [];\n",
              "      let downloaded = 0;\n",
              "\n",
              "      const channel = await google.colab.kernel.comms.open(id);\n",
              "      // Send a message to notify the kernel that we're ready.\n",
              "      channel.send({})\n",
              "\n",
              "      for await (const message of channel.messages) {\n",
              "        // Send a message to notify the kernel that we're ready.\n",
              "        channel.send({})\n",
              "        if (message.buffers) {\n",
              "          for (const buffer of message.buffers) {\n",
              "            buffers.push(buffer);\n",
              "            downloaded += buffer.byteLength;\n",
              "            progress.value = downloaded;\n",
              "          }\n",
              "        }\n",
              "      }\n",
              "      const blob = new Blob(buffers, {type: 'application/binary'});\n",
              "      const a = document.createElement('a');\n",
              "      a.href = window.URL.createObjectURL(blob);\n",
              "      a.download = filename;\n",
              "      div.appendChild(a);\n",
              "      a.click();\n",
              "      div.remove();\n",
              "    }\n",
              "  "
            ]
          },
          "metadata": {}
        },
        {
          "output_type": "display_data",
          "data": {
            "text/plain": [
              "<IPython.core.display.Javascript object>"
            ],
            "application/javascript": [
              "download(\"download_e332a870-5089-46ea-b673-14e3656ed92c\", \"cutoff_2020.csv\", 1417988)"
            ]
          },
          "metadata": {}
        },
        {
          "output_type": "display_data",
          "data": {
            "text/plain": [
              "<IPython.core.display.Javascript object>"
            ],
            "application/javascript": [
              "\n",
              "    async function download(id, filename, size) {\n",
              "      if (!google.colab.kernel.accessAllowed) {\n",
              "        return;\n",
              "      }\n",
              "      const div = document.createElement('div');\n",
              "      const label = document.createElement('label');\n",
              "      label.textContent = `Downloading \"${filename}\": `;\n",
              "      div.appendChild(label);\n",
              "      const progress = document.createElement('progress');\n",
              "      progress.max = size;\n",
              "      div.appendChild(progress);\n",
              "      document.body.appendChild(div);\n",
              "\n",
              "      const buffers = [];\n",
              "      let downloaded = 0;\n",
              "\n",
              "      const channel = await google.colab.kernel.comms.open(id);\n",
              "      // Send a message to notify the kernel that we're ready.\n",
              "      channel.send({})\n",
              "\n",
              "      for await (const message of channel.messages) {\n",
              "        // Send a message to notify the kernel that we're ready.\n",
              "        channel.send({})\n",
              "        if (message.buffers) {\n",
              "          for (const buffer of message.buffers) {\n",
              "            buffers.push(buffer);\n",
              "            downloaded += buffer.byteLength;\n",
              "            progress.value = downloaded;\n",
              "          }\n",
              "        }\n",
              "      }\n",
              "      const blob = new Blob(buffers, {type: 'application/binary'});\n",
              "      const a = document.createElement('a');\n",
              "      a.href = window.URL.createObjectURL(blob);\n",
              "      a.download = filename;\n",
              "      div.appendChild(a);\n",
              "      a.click();\n",
              "      div.remove();\n",
              "    }\n",
              "  "
            ]
          },
          "metadata": {}
        },
        {
          "output_type": "display_data",
          "data": {
            "text/plain": [
              "<IPython.core.display.Javascript object>"
            ],
            "application/javascript": [
              "download(\"download_498a58da-b197-40f2-8ce4-7296fcd9d6cb\", \"cutoff_2021.csv\", 1417350)"
            ]
          },
          "metadata": {}
        },
        {
          "output_type": "display_data",
          "data": {
            "text/plain": [
              "<IPython.core.display.Javascript object>"
            ],
            "application/javascript": [
              "\n",
              "    async function download(id, filename, size) {\n",
              "      if (!google.colab.kernel.accessAllowed) {\n",
              "        return;\n",
              "      }\n",
              "      const div = document.createElement('div');\n",
              "      const label = document.createElement('label');\n",
              "      label.textContent = `Downloading \"${filename}\": `;\n",
              "      div.appendChild(label);\n",
              "      const progress = document.createElement('progress');\n",
              "      progress.max = size;\n",
              "      div.appendChild(progress);\n",
              "      document.body.appendChild(div);\n",
              "\n",
              "      const buffers = [];\n",
              "      let downloaded = 0;\n",
              "\n",
              "      const channel = await google.colab.kernel.comms.open(id);\n",
              "      // Send a message to notify the kernel that we're ready.\n",
              "      channel.send({})\n",
              "\n",
              "      for await (const message of channel.messages) {\n",
              "        // Send a message to notify the kernel that we're ready.\n",
              "        channel.send({})\n",
              "        if (message.buffers) {\n",
              "          for (const buffer of message.buffers) {\n",
              "            buffers.push(buffer);\n",
              "            downloaded += buffer.byteLength;\n",
              "            progress.value = downloaded;\n",
              "          }\n",
              "        }\n",
              "      }\n",
              "      const blob = new Blob(buffers, {type: 'application/binary'});\n",
              "      const a = document.createElement('a');\n",
              "      a.href = window.URL.createObjectURL(blob);\n",
              "      a.download = filename;\n",
              "      div.appendChild(a);\n",
              "      a.click();\n",
              "      div.remove();\n",
              "    }\n",
              "  "
            ]
          },
          "metadata": {}
        },
        {
          "output_type": "display_data",
          "data": {
            "text/plain": [
              "<IPython.core.display.Javascript object>"
            ],
            "application/javascript": [
              "download(\"download_36c0927e-0e72-47b2-98ce-2df448de91f4\", \"cutoff_2022.csv\", 1416742)"
            ]
          },
          "metadata": {}
        },
        {
          "output_type": "display_data",
          "data": {
            "text/plain": [
              "<IPython.core.display.Javascript object>"
            ],
            "application/javascript": [
              "\n",
              "    async function download(id, filename, size) {\n",
              "      if (!google.colab.kernel.accessAllowed) {\n",
              "        return;\n",
              "      }\n",
              "      const div = document.createElement('div');\n",
              "      const label = document.createElement('label');\n",
              "      label.textContent = `Downloading \"${filename}\": `;\n",
              "      div.appendChild(label);\n",
              "      const progress = document.createElement('progress');\n",
              "      progress.max = size;\n",
              "      div.appendChild(progress);\n",
              "      document.body.appendChild(div);\n",
              "\n",
              "      const buffers = [];\n",
              "      let downloaded = 0;\n",
              "\n",
              "      const channel = await google.colab.kernel.comms.open(id);\n",
              "      // Send a message to notify the kernel that we're ready.\n",
              "      channel.send({})\n",
              "\n",
              "      for await (const message of channel.messages) {\n",
              "        // Send a message to notify the kernel that we're ready.\n",
              "        channel.send({})\n",
              "        if (message.buffers) {\n",
              "          for (const buffer of message.buffers) {\n",
              "            buffers.push(buffer);\n",
              "            downloaded += buffer.byteLength;\n",
              "            progress.value = downloaded;\n",
              "          }\n",
              "        }\n",
              "      }\n",
              "      const blob = new Blob(buffers, {type: 'application/binary'});\n",
              "      const a = document.createElement('a');\n",
              "      a.href = window.URL.createObjectURL(blob);\n",
              "      a.download = filename;\n",
              "      div.appendChild(a);\n",
              "      a.click();\n",
              "      div.remove();\n",
              "    }\n",
              "  "
            ]
          },
          "metadata": {}
        },
        {
          "output_type": "display_data",
          "data": {
            "text/plain": [
              "<IPython.core.display.Javascript object>"
            ],
            "application/javascript": [
              "download(\"download_d49d8251-c8a2-497b-aa0b-5a1250032f29\", \"cutoff_2023.csv\", 1416128)"
            ]
          },
          "metadata": {}
        },
        {
          "output_type": "display_data",
          "data": {
            "text/plain": [
              "<IPython.core.display.Javascript object>"
            ],
            "application/javascript": [
              "\n",
              "    async function download(id, filename, size) {\n",
              "      if (!google.colab.kernel.accessAllowed) {\n",
              "        return;\n",
              "      }\n",
              "      const div = document.createElement('div');\n",
              "      const label = document.createElement('label');\n",
              "      label.textContent = `Downloading \"${filename}\": `;\n",
              "      div.appendChild(label);\n",
              "      const progress = document.createElement('progress');\n",
              "      progress.max = size;\n",
              "      div.appendChild(progress);\n",
              "      document.body.appendChild(div);\n",
              "\n",
              "      const buffers = [];\n",
              "      let downloaded = 0;\n",
              "\n",
              "      const channel = await google.colab.kernel.comms.open(id);\n",
              "      // Send a message to notify the kernel that we're ready.\n",
              "      channel.send({})\n",
              "\n",
              "      for await (const message of channel.messages) {\n",
              "        // Send a message to notify the kernel that we're ready.\n",
              "        channel.send({})\n",
              "        if (message.buffers) {\n",
              "          for (const buffer of message.buffers) {\n",
              "            buffers.push(buffer);\n",
              "            downloaded += buffer.byteLength;\n",
              "            progress.value = downloaded;\n",
              "          }\n",
              "        }\n",
              "      }\n",
              "      const blob = new Blob(buffers, {type: 'application/binary'});\n",
              "      const a = document.createElement('a');\n",
              "      a.href = window.URL.createObjectURL(blob);\n",
              "      a.download = filename;\n",
              "      div.appendChild(a);\n",
              "      a.click();\n",
              "      div.remove();\n",
              "    }\n",
              "  "
            ]
          },
          "metadata": {}
        },
        {
          "output_type": "display_data",
          "data": {
            "text/plain": [
              "<IPython.core.display.Javascript object>"
            ],
            "application/javascript": [
              "download(\"download_063fdf4d-940f-4d5f-8f49-cdbd4e1a7358\", \"cutoff_2024.csv\", 1415499)"
            ]
          },
          "metadata": {}
        },
        {
          "output_type": "display_data",
          "data": {
            "text/plain": [
              "<IPython.core.display.Javascript object>"
            ],
            "application/javascript": [
              "\n",
              "    async function download(id, filename, size) {\n",
              "      if (!google.colab.kernel.accessAllowed) {\n",
              "        return;\n",
              "      }\n",
              "      const div = document.createElement('div');\n",
              "      const label = document.createElement('label');\n",
              "      label.textContent = `Downloading \"${filename}\": `;\n",
              "      div.appendChild(label);\n",
              "      const progress = document.createElement('progress');\n",
              "      progress.max = size;\n",
              "      div.appendChild(progress);\n",
              "      document.body.appendChild(div);\n",
              "\n",
              "      const buffers = [];\n",
              "      let downloaded = 0;\n",
              "\n",
              "      const channel = await google.colab.kernel.comms.open(id);\n",
              "      // Send a message to notify the kernel that we're ready.\n",
              "      channel.send({})\n",
              "\n",
              "      for await (const message of channel.messages) {\n",
              "        // Send a message to notify the kernel that we're ready.\n",
              "        channel.send({})\n",
              "        if (message.buffers) {\n",
              "          for (const buffer of message.buffers) {\n",
              "            buffers.push(buffer);\n",
              "            downloaded += buffer.byteLength;\n",
              "            progress.value = downloaded;\n",
              "          }\n",
              "        }\n",
              "      }\n",
              "      const blob = new Blob(buffers, {type: 'application/binary'});\n",
              "      const a = document.createElement('a');\n",
              "      a.href = window.URL.createObjectURL(blob);\n",
              "      a.download = filename;\n",
              "      div.appendChild(a);\n",
              "      a.click();\n",
              "      div.remove();\n",
              "    }\n",
              "  "
            ]
          },
          "metadata": {}
        },
        {
          "output_type": "display_data",
          "data": {
            "text/plain": [
              "<IPython.core.display.Javascript object>"
            ],
            "application/javascript": [
              "download(\"download_56c7e5c1-53ec-4213-a82c-ae526d81e077\", \"cutoff_2025.csv\", 1414988)"
            ]
          },
          "metadata": {}
        }
      ]
    },
    {
      "cell_type": "code",
      "source": [
        "import pandas as pd\n",
        "import random\n",
        "import os\n",
        "\n",
        "# ==========================================\n",
        "# CONFIG: Load existing 60 colleges\n",
        "# ==========================================\n",
        "df_colleges = pd.read_csv(\"college_list.csv\")  # Should exist in your dir\n",
        "colleges = df_colleges[\"Code\"].tolist()\n",
        "\n",
        "# ==========================================\n",
        "# CONFIG: COMEDK-specific setup\n",
        "# ==========================================\n",
        "branches = [\n",
        "    \"Computer Science and Engineering\",\n",
        "    \"Information Science and Engineering\",\n",
        "    \"Electronics and Communication Engineering\",\n",
        "    \"Electrical and Electronics Engineering\",\n",
        "    \"Mechanical Engineering\",\n",
        "    \"Civil Engineering\",\n",
        "    \"Artificial Intelligence and Data Science\",\n",
        "    \"Biotechnology\",\n",
        "    \"Data Science\",\n",
        "    \"Robotics and Automation Engineering\"\n",
        "]\n",
        "\n",
        "categories = [\"GM\", \"HKR\", \"Tulu\", \"Christian\", \"Muslim\", \"Others\"]\n",
        "rounds = [\"Mock\", \"Round 1\", \"Round 2\", \"Extended\"]\n",
        "years = list(range(2020, 2026))  # 2020 to 2025\n",
        "\n",
        "# ==========================================\n",
        "# RANK SIMULATOR FOR COMEDK\n",
        "# ==========================================\n",
        "def get_random_comedk_rank(branch, category, year):\n",
        "    base = {\n",
        "        \"Computer Science and Engineering\": 3000,\n",
        "        \"Information Science and Engineering\": 5000,\n",
        "        \"Electronics and Communication Engineering\": 6500,\n",
        "        \"Electrical and Electronics Engineering\": 8000,\n",
        "        \"Mechanical Engineering\": 13000,\n",
        "        \"Civil Engineering\": 15000,\n",
        "        \"Artificial Intelligence and Data Science\": 6000,\n",
        "        \"Biotechnology\": 14000,\n",
        "        \"Data Science\": 6200,\n",
        "        \"Robotics and Automation Engineering\": 8500\n",
        "    }[branch]\n",
        "\n",
        "    cat_offset = {\n",
        "        \"GM\": 0,\n",
        "        \"HKR\": 1200,\n",
        "        \"Tulu\": 2000,\n",
        "        \"Christian\": 2500,\n",
        "        \"Muslim\": 2700,\n",
        "        \"Others\": 3000\n",
        "    }[category]\n",
        "\n",
        "    year_drift = (2025 - year) * 100\n",
        "    return max(100, min(base + cat_offset + year_drift + random.randint(-800, 1000), 100000))\n",
        "\n",
        "# ==========================================\n",
        "# GENERATE AND SAVE COMEDK DATA\n",
        "# ==========================================\n",
        "os.makedirs(\"data/cutoffs\", exist_ok=True)\n",
        "\n",
        "for year in years:\n",
        "    records = []\n",
        "    for clg in colleges:\n",
        "        for branch in branches:\n",
        "            for cat in categories:\n",
        "                for rnd in rounds:\n",
        "                    rank = get_random_comedk_rank(branch, cat, year)\n",
        "                    records.append([year, rnd, clg, branch, cat, rank])\n",
        "    df = pd.DataFrame(records, columns=[\"Year\", \"Round\", \"College\", \"Branch\", \"Category\", \"Cutoff_Rank\"])\n",
        "    df.to_csv(f\"data/cutoffs/comedk_{year}.csv\", index=False)\n",
        "    print(f\"✅ comedk_{year}.csv saved with {len(df)} rows\")\n",
        "\n",
        "print(\"\\n🎯 All COMEDK cutoff files (2020–2025) generated — total ≈ 86,400 rows\")\n"
      ],
      "metadata": {
        "colab": {
          "base_uri": "https://localhost:8080/"
        },
        "id": "zJaBDwDoaj7W",
        "outputId": "0734b370-38d5-48ab-cf16-4f7db88e5dd0"
      },
      "execution_count": 5,
      "outputs": [
        {
          "output_type": "stream",
          "name": "stdout",
          "text": [
            "✅ comedk_2020.csv saved with 13680 rows\n",
            "✅ comedk_2021.csv saved with 13680 rows\n",
            "✅ comedk_2022.csv saved with 13680 rows\n",
            "✅ comedk_2023.csv saved with 13680 rows\n",
            "✅ comedk_2024.csv saved with 13680 rows\n",
            "✅ comedk_2025.csv saved with 13680 rows\n",
            "\n",
            "🎯 All COMEDK cutoff files (2020–2025) generated — total ≈ 86,400 rows\n"
          ]
        }
      ]
    },
    {
      "cell_type": "code",
      "source": [
        "files.download(\"data/cutoffs/comedk_2020.csv\")\n",
        "files.download(\"data/cutoffs/comedk_2021.csv\")\n",
        "files.download(\"data/cutoffs/comedk_2022.csv\")\n",
        "files.download(\"data/cutoffs/comedk_2023.csv\")\n",
        "files.download(\"data/cutoffs/comedk_2024.csv\")\n",
        "files.download(\"data/cutoffs/comedk_2025.csv\")"
      ],
      "metadata": {
        "colab": {
          "base_uri": "https://localhost:8080/",
          "height": 17
        },
        "id": "n5mCwFRxgdY_",
        "outputId": "d75c11e7-d8a4-4f93-b8dc-8fe92a112ae4"
      },
      "execution_count": 8,
      "outputs": [
        {
          "output_type": "display_data",
          "data": {
            "text/plain": [
              "<IPython.core.display.Javascript object>"
            ],
            "application/javascript": [
              "\n",
              "    async function download(id, filename, size) {\n",
              "      if (!google.colab.kernel.accessAllowed) {\n",
              "        return;\n",
              "      }\n",
              "      const div = document.createElement('div');\n",
              "      const label = document.createElement('label');\n",
              "      label.textContent = `Downloading \"${filename}\": `;\n",
              "      div.appendChild(label);\n",
              "      const progress = document.createElement('progress');\n",
              "      progress.max = size;\n",
              "      div.appendChild(progress);\n",
              "      document.body.appendChild(div);\n",
              "\n",
              "      const buffers = [];\n",
              "      let downloaded = 0;\n",
              "\n",
              "      const channel = await google.colab.kernel.comms.open(id);\n",
              "      // Send a message to notify the kernel that we're ready.\n",
              "      channel.send({})\n",
              "\n",
              "      for await (const message of channel.messages) {\n",
              "        // Send a message to notify the kernel that we're ready.\n",
              "        channel.send({})\n",
              "        if (message.buffers) {\n",
              "          for (const buffer of message.buffers) {\n",
              "            buffers.push(buffer);\n",
              "            downloaded += buffer.byteLength;\n",
              "            progress.value = downloaded;\n",
              "          }\n",
              "        }\n",
              "      }\n",
              "      const blob = new Blob(buffers, {type: 'application/binary'});\n",
              "      const a = document.createElement('a');\n",
              "      a.href = window.URL.createObjectURL(blob);\n",
              "      a.download = filename;\n",
              "      div.appendChild(a);\n",
              "      a.click();\n",
              "      div.remove();\n",
              "    }\n",
              "  "
            ]
          },
          "metadata": {}
        },
        {
          "output_type": "display_data",
          "data": {
            "text/plain": [
              "<IPython.core.display.Javascript object>"
            ],
            "application/javascript": [
              "download(\"download_c0770397-18db-455f-8e4f-4a77d54bf81d\", \"comedk_2020.csv\", 807822)"
            ]
          },
          "metadata": {}
        },
        {
          "output_type": "display_data",
          "data": {
            "text/plain": [
              "<IPython.core.display.Javascript object>"
            ],
            "application/javascript": [
              "\n",
              "    async function download(id, filename, size) {\n",
              "      if (!google.colab.kernel.accessAllowed) {\n",
              "        return;\n",
              "      }\n",
              "      const div = document.createElement('div');\n",
              "      const label = document.createElement('label');\n",
              "      label.textContent = `Downloading \"${filename}\": `;\n",
              "      div.appendChild(label);\n",
              "      const progress = document.createElement('progress');\n",
              "      progress.max = size;\n",
              "      div.appendChild(progress);\n",
              "      document.body.appendChild(div);\n",
              "\n",
              "      const buffers = [];\n",
              "      let downloaded = 0;\n",
              "\n",
              "      const channel = await google.colab.kernel.comms.open(id);\n",
              "      // Send a message to notify the kernel that we're ready.\n",
              "      channel.send({})\n",
              "\n",
              "      for await (const message of channel.messages) {\n",
              "        // Send a message to notify the kernel that we're ready.\n",
              "        channel.send({})\n",
              "        if (message.buffers) {\n",
              "          for (const buffer of message.buffers) {\n",
              "            buffers.push(buffer);\n",
              "            downloaded += buffer.byteLength;\n",
              "            progress.value = downloaded;\n",
              "          }\n",
              "        }\n",
              "      }\n",
              "      const blob = new Blob(buffers, {type: 'application/binary'});\n",
              "      const a = document.createElement('a');\n",
              "      a.href = window.URL.createObjectURL(blob);\n",
              "      a.download = filename;\n",
              "      div.appendChild(a);\n",
              "      a.click();\n",
              "      div.remove();\n",
              "    }\n",
              "  "
            ]
          },
          "metadata": {}
        },
        {
          "output_type": "display_data",
          "data": {
            "text/plain": [
              "<IPython.core.display.Javascript object>"
            ],
            "application/javascript": [
              "download(\"download_c855b2eb-388a-4eea-8e9c-c7cab1377540\", \"comedk_2021.csv\", 807695)"
            ]
          },
          "metadata": {}
        },
        {
          "output_type": "display_data",
          "data": {
            "text/plain": [
              "<IPython.core.display.Javascript object>"
            ],
            "application/javascript": [
              "\n",
              "    async function download(id, filename, size) {\n",
              "      if (!google.colab.kernel.accessAllowed) {\n",
              "        return;\n",
              "      }\n",
              "      const div = document.createElement('div');\n",
              "      const label = document.createElement('label');\n",
              "      label.textContent = `Downloading \"${filename}\": `;\n",
              "      div.appendChild(label);\n",
              "      const progress = document.createElement('progress');\n",
              "      progress.max = size;\n",
              "      div.appendChild(progress);\n",
              "      document.body.appendChild(div);\n",
              "\n",
              "      const buffers = [];\n",
              "      let downloaded = 0;\n",
              "\n",
              "      const channel = await google.colab.kernel.comms.open(id);\n",
              "      // Send a message to notify the kernel that we're ready.\n",
              "      channel.send({})\n",
              "\n",
              "      for await (const message of channel.messages) {\n",
              "        // Send a message to notify the kernel that we're ready.\n",
              "        channel.send({})\n",
              "        if (message.buffers) {\n",
              "          for (const buffer of message.buffers) {\n",
              "            buffers.push(buffer);\n",
              "            downloaded += buffer.byteLength;\n",
              "            progress.value = downloaded;\n",
              "          }\n",
              "        }\n",
              "      }\n",
              "      const blob = new Blob(buffers, {type: 'application/binary'});\n",
              "      const a = document.createElement('a');\n",
              "      a.href = window.URL.createObjectURL(blob);\n",
              "      a.download = filename;\n",
              "      div.appendChild(a);\n",
              "      a.click();\n",
              "      div.remove();\n",
              "    }\n",
              "  "
            ]
          },
          "metadata": {}
        },
        {
          "output_type": "display_data",
          "data": {
            "text/plain": [
              "<IPython.core.display.Javascript object>"
            ],
            "application/javascript": [
              "download(\"download_253f2edc-9687-4bde-9958-b1468bd3c9b6\", \"comedk_2022.csv\", 807565)"
            ]
          },
          "metadata": {}
        },
        {
          "output_type": "display_data",
          "data": {
            "text/plain": [
              "<IPython.core.display.Javascript object>"
            ],
            "application/javascript": [
              "\n",
              "    async function download(id, filename, size) {\n",
              "      if (!google.colab.kernel.accessAllowed) {\n",
              "        return;\n",
              "      }\n",
              "      const div = document.createElement('div');\n",
              "      const label = document.createElement('label');\n",
              "      label.textContent = `Downloading \"${filename}\": `;\n",
              "      div.appendChild(label);\n",
              "      const progress = document.createElement('progress');\n",
              "      progress.max = size;\n",
              "      div.appendChild(progress);\n",
              "      document.body.appendChild(div);\n",
              "\n",
              "      const buffers = [];\n",
              "      let downloaded = 0;\n",
              "\n",
              "      const channel = await google.colab.kernel.comms.open(id);\n",
              "      // Send a message to notify the kernel that we're ready.\n",
              "      channel.send({})\n",
              "\n",
              "      for await (const message of channel.messages) {\n",
              "        // Send a message to notify the kernel that we're ready.\n",
              "        channel.send({})\n",
              "        if (message.buffers) {\n",
              "          for (const buffer of message.buffers) {\n",
              "            buffers.push(buffer);\n",
              "            downloaded += buffer.byteLength;\n",
              "            progress.value = downloaded;\n",
              "          }\n",
              "        }\n",
              "      }\n",
              "      const blob = new Blob(buffers, {type: 'application/binary'});\n",
              "      const a = document.createElement('a');\n",
              "      a.href = window.URL.createObjectURL(blob);\n",
              "      a.download = filename;\n",
              "      div.appendChild(a);\n",
              "      a.click();\n",
              "      div.remove();\n",
              "    }\n",
              "  "
            ]
          },
          "metadata": {}
        },
        {
          "output_type": "display_data",
          "data": {
            "text/plain": [
              "<IPython.core.display.Javascript object>"
            ],
            "application/javascript": [
              "download(\"download_f00bb5ee-ab38-4484-92d5-0a7f4691abac\", \"comedk_2023.csv\", 807432)"
            ]
          },
          "metadata": {}
        },
        {
          "output_type": "display_data",
          "data": {
            "text/plain": [
              "<IPython.core.display.Javascript object>"
            ],
            "application/javascript": [
              "\n",
              "    async function download(id, filename, size) {\n",
              "      if (!google.colab.kernel.accessAllowed) {\n",
              "        return;\n",
              "      }\n",
              "      const div = document.createElement('div');\n",
              "      const label = document.createElement('label');\n",
              "      label.textContent = `Downloading \"${filename}\": `;\n",
              "      div.appendChild(label);\n",
              "      const progress = document.createElement('progress');\n",
              "      progress.max = size;\n",
              "      div.appendChild(progress);\n",
              "      document.body.appendChild(div);\n",
              "\n",
              "      const buffers = [];\n",
              "      let downloaded = 0;\n",
              "\n",
              "      const channel = await google.colab.kernel.comms.open(id);\n",
              "      // Send a message to notify the kernel that we're ready.\n",
              "      channel.send({})\n",
              "\n",
              "      for await (const message of channel.messages) {\n",
              "        // Send a message to notify the kernel that we're ready.\n",
              "        channel.send({})\n",
              "        if (message.buffers) {\n",
              "          for (const buffer of message.buffers) {\n",
              "            buffers.push(buffer);\n",
              "            downloaded += buffer.byteLength;\n",
              "            progress.value = downloaded;\n",
              "          }\n",
              "        }\n",
              "      }\n",
              "      const blob = new Blob(buffers, {type: 'application/binary'});\n",
              "      const a = document.createElement('a');\n",
              "      a.href = window.URL.createObjectURL(blob);\n",
              "      a.download = filename;\n",
              "      div.appendChild(a);\n",
              "      a.click();\n",
              "      div.remove();\n",
              "    }\n",
              "  "
            ]
          },
          "metadata": {}
        },
        {
          "output_type": "display_data",
          "data": {
            "text/plain": [
              "<IPython.core.display.Javascript object>"
            ],
            "application/javascript": [
              "download(\"download_70b84e72-8a5b-4c18-a536-182e2198a233\", \"comedk_2024.csv\", 807277)"
            ]
          },
          "metadata": {}
        },
        {
          "output_type": "display_data",
          "data": {
            "text/plain": [
              "<IPython.core.display.Javascript object>"
            ],
            "application/javascript": [
              "\n",
              "    async function download(id, filename, size) {\n",
              "      if (!google.colab.kernel.accessAllowed) {\n",
              "        return;\n",
              "      }\n",
              "      const div = document.createElement('div');\n",
              "      const label = document.createElement('label');\n",
              "      label.textContent = `Downloading \"${filename}\": `;\n",
              "      div.appendChild(label);\n",
              "      const progress = document.createElement('progress');\n",
              "      progress.max = size;\n",
              "      div.appendChild(progress);\n",
              "      document.body.appendChild(div);\n",
              "\n",
              "      const buffers = [];\n",
              "      let downloaded = 0;\n",
              "\n",
              "      const channel = await google.colab.kernel.comms.open(id);\n",
              "      // Send a message to notify the kernel that we're ready.\n",
              "      channel.send({})\n",
              "\n",
              "      for await (const message of channel.messages) {\n",
              "        // Send a message to notify the kernel that we're ready.\n",
              "        channel.send({})\n",
              "        if (message.buffers) {\n",
              "          for (const buffer of message.buffers) {\n",
              "            buffers.push(buffer);\n",
              "            downloaded += buffer.byteLength;\n",
              "            progress.value = downloaded;\n",
              "          }\n",
              "        }\n",
              "      }\n",
              "      const blob = new Blob(buffers, {type: 'application/binary'});\n",
              "      const a = document.createElement('a');\n",
              "      a.href = window.URL.createObjectURL(blob);\n",
              "      a.download = filename;\n",
              "      div.appendChild(a);\n",
              "      a.click();\n",
              "      div.remove();\n",
              "    }\n",
              "  "
            ]
          },
          "metadata": {}
        },
        {
          "output_type": "display_data",
          "data": {
            "text/plain": [
              "<IPython.core.display.Javascript object>"
            ],
            "application/javascript": [
              "download(\"download_16e5832e-b94d-4b2b-ad4f-5c29962cc0c4\", \"comedk_2025.csv\", 807112)"
            ]
          },
          "metadata": {}
        }
      ]
    },
    {
      "cell_type": "code",
      "source": [
        "import pandas as pd\n",
        "import random\n",
        "import os\n",
        "\n",
        "# Load colleges\n",
        "df_colleges = pd.read_csv(\"college_list.csv\")\n",
        "colleges = df_colleges[\"Code\"].tolist()\n",
        "\n",
        "# Config\n",
        "branches = [\n",
        "    \"Computer Science and Engineering\",\n",
        "    \"Information Science and Engineering\",\n",
        "    \"Electronics and Communication Engineering\",\n",
        "    \"Electrical and Electronics Engineering\",\n",
        "    \"Mechanical Engineering\",\n",
        "    \"Civil Engineering\",\n",
        "    \"Artificial Intelligence and Data Science\",\n",
        "    \"Biotechnology\",\n",
        "    \"Data Science\",\n",
        "    \"Robotics and Automation Engineering\",\n",
        "    \"Aerospace Engineering\",\n",
        "    \"Chemical Engineering\"\n",
        "]\n",
        "\n",
        "categories = [\"GM\", \"OBC\", \"SC\", \"ST\", \"Tulu\", \"Christian\"]\n",
        "exams = [\"KCET\", \"COMEDK\"]\n",
        "years = [2023, 2024]\n",
        "\n",
        "# Generate synthetic seat matrix\n",
        "records = []\n",
        "for clg in colleges:\n",
        "    for branch in branches:\n",
        "        for cat in categories:\n",
        "            for exam in exams:\n",
        "                for year in years:\n",
        "                    seats = random.randint(6, 60)\n",
        "                    records.append([clg, branch, cat, exam, year, seats])\n",
        "\n",
        "df_seats = pd.DataFrame(records, columns=[\"College\", \"Branch\", \"Category\", \"Exam\", \"Year\", \"Total_Seats\"])\n",
        "\n",
        "# Shuffle and trim to 14,400 rows\n",
        "df_seats = df_seats.sample(n=14400, random_state=42).reset_index(drop=True)\n",
        "\n",
        "# Save\n",
        "os.makedirs(\"data\", exist_ok=True)\n",
        "df_seats.to_csv(\"data/seat_matrix.csv\", index=False)\n",
        "\n",
        "print(\"✅ seat_matrix.csv generated with 14,400 rows.\")\n"
      ],
      "metadata": {
        "colab": {
          "base_uri": "https://localhost:8080/"
        },
        "id": "_eq8Mz0Lh1VX",
        "outputId": "8f4becfb-2ce4-407b-b3ea-62494d1f5edf"
      },
      "execution_count": 9,
      "outputs": [
        {
          "output_type": "stream",
          "name": "stdout",
          "text": [
            "✅ seat_matrix.csv generated with 14,400 rows.\n"
          ]
        }
      ]
    },
    {
      "cell_type": "code",
      "source": [
        "files.download(\"data/seat_matrix.csv\")"
      ],
      "metadata": {
        "colab": {
          "base_uri": "https://localhost:8080/",
          "height": 17
        },
        "id": "ZZhdn9vmh1YZ",
        "outputId": "bd716eae-a1f5-414f-da26-d9d2bc23bb86"
      },
      "execution_count": 10,
      "outputs": [
        {
          "output_type": "display_data",
          "data": {
            "text/plain": [
              "<IPython.core.display.Javascript object>"
            ],
            "application/javascript": [
              "\n",
              "    async function download(id, filename, size) {\n",
              "      if (!google.colab.kernel.accessAllowed) {\n",
              "        return;\n",
              "      }\n",
              "      const div = document.createElement('div');\n",
              "      const label = document.createElement('label');\n",
              "      label.textContent = `Downloading \"${filename}\": `;\n",
              "      div.appendChild(label);\n",
              "      const progress = document.createElement('progress');\n",
              "      progress.max = size;\n",
              "      div.appendChild(progress);\n",
              "      document.body.appendChild(div);\n",
              "\n",
              "      const buffers = [];\n",
              "      let downloaded = 0;\n",
              "\n",
              "      const channel = await google.colab.kernel.comms.open(id);\n",
              "      // Send a message to notify the kernel that we're ready.\n",
              "      channel.send({})\n",
              "\n",
              "      for await (const message of channel.messages) {\n",
              "        // Send a message to notify the kernel that we're ready.\n",
              "        channel.send({})\n",
              "        if (message.buffers) {\n",
              "          for (const buffer of message.buffers) {\n",
              "            buffers.push(buffer);\n",
              "            downloaded += buffer.byteLength;\n",
              "            progress.value = downloaded;\n",
              "          }\n",
              "        }\n",
              "      }\n",
              "      const blob = new Blob(buffers, {type: 'application/binary'});\n",
              "      const a = document.createElement('a');\n",
              "      a.href = window.URL.createObjectURL(blob);\n",
              "      a.download = filename;\n",
              "      div.appendChild(a);\n",
              "      a.click();\n",
              "      div.remove();\n",
              "    }\n",
              "  "
            ]
          },
          "metadata": {}
        },
        {
          "output_type": "display_data",
          "data": {
            "text/plain": [
              "<IPython.core.display.Javascript object>"
            ],
            "application/javascript": [
              "download(\"download_92905150-48fa-4532-87cc-c71b939a0c39\", \"seat_matrix.csv\", 753761)"
            ]
          },
          "metadata": {}
        }
      ]
    },
    {
      "cell_type": "code",
      "source": [
        "import pandas as pd\n",
        "import random\n",
        "import os\n",
        "\n",
        "# Load seat matrix\n",
        "df_seats = pd.read_csv(\"data/seat_matrix.csv\")\n",
        "\n",
        "# Helper to assign fee slabs based on exam\n",
        "def generate_fees(exam):\n",
        "    if exam == \"KCET\":\n",
        "        tuition = random.randint(50000, 85000)\n",
        "    else:  # COMEDK\n",
        "        tuition = random.randint(160000, 250000)\n",
        "\n",
        "    hostel = random.randint(60000, 95000)\n",
        "    misc = random.randint(8000, 20000)\n",
        "    one_time = random.randint(10000, 30000)\n",
        "    total_first_year = tuition + hostel + misc + one_time\n",
        "    total_annual = tuition + hostel + misc\n",
        "    scholarship = random.choice([\"Yes\", \"No\"])\n",
        "\n",
        "    return pd.Series([tuition, hostel, misc, one_time, total_first_year, total_annual, scholarship],\n",
        "                     index=[\"Tuition_Fee\", \"Hostel_Fee\", \"Misc_Fee\", \"OneTime_Fee\",\n",
        "                            \"Total_First_Year\", \"Total_Annual\", \"Scholarship_Eligible\"])\n",
        "\n",
        "# Apply fees to each row\n",
        "df_fees = df_seats[[\"College\", \"Branch\", \"Exam\", \"Year\"]].copy()\n",
        "df_fees[[\"Tuition_Fee\", \"Hostel_Fee\", \"Misc_Fee\", \"OneTime_Fee\",\n",
        "         \"Total_First_Year\", \"Total_Annual\", \"Scholarship_Eligible\"]] = df_fees[\"Exam\"].apply(generate_fees)\n",
        "\n",
        "# Save to CSV\n",
        "os.makedirs(\"data\", exist_ok=True)\n",
        "df_fees.to_csv(\"data/fees.csv\", index=False)\n",
        "print(f\"✅ fees.csv generated with {len(df_fees)} rows.\")\n"
      ],
      "metadata": {
        "colab": {
          "base_uri": "https://localhost:8080/"
        },
        "id": "jESkQ2YWh1bS",
        "outputId": "630bda63-21e8-4a59-aafe-ba2f12a4ebca"
      },
      "execution_count": 11,
      "outputs": [
        {
          "output_type": "stream",
          "name": "stdout",
          "text": [
            "✅ fees.csv generated with 14400 rows.\n"
          ]
        }
      ]
    },
    {
      "cell_type": "code",
      "source": [
        "files.download(\"data/fees.csv\")\n"
      ],
      "metadata": {
        "colab": {
          "base_uri": "https://localhost:8080/",
          "height": 17
        },
        "id": "BTFQuD9ekTwA",
        "outputId": "9d80cf97-67c1-4cfd-c606-bb43c5edeb04"
      },
      "execution_count": 12,
      "outputs": [
        {
          "output_type": "display_data",
          "data": {
            "text/plain": [
              "<IPython.core.display.Javascript object>"
            ],
            "application/javascript": [
              "\n",
              "    async function download(id, filename, size) {\n",
              "      if (!google.colab.kernel.accessAllowed) {\n",
              "        return;\n",
              "      }\n",
              "      const div = document.createElement('div');\n",
              "      const label = document.createElement('label');\n",
              "      label.textContent = `Downloading \"${filename}\": `;\n",
              "      div.appendChild(label);\n",
              "      const progress = document.createElement('progress');\n",
              "      progress.max = size;\n",
              "      div.appendChild(progress);\n",
              "      document.body.appendChild(div);\n",
              "\n",
              "      const buffers = [];\n",
              "      let downloaded = 0;\n",
              "\n",
              "      const channel = await google.colab.kernel.comms.open(id);\n",
              "      // Send a message to notify the kernel that we're ready.\n",
              "      channel.send({})\n",
              "\n",
              "      for await (const message of channel.messages) {\n",
              "        // Send a message to notify the kernel that we're ready.\n",
              "        channel.send({})\n",
              "        if (message.buffers) {\n",
              "          for (const buffer of message.buffers) {\n",
              "            buffers.push(buffer);\n",
              "            downloaded += buffer.byteLength;\n",
              "            progress.value = downloaded;\n",
              "          }\n",
              "        }\n",
              "      }\n",
              "      const blob = new Blob(buffers, {type: 'application/binary'});\n",
              "      const a = document.createElement('a');\n",
              "      a.href = window.URL.createObjectURL(blob);\n",
              "      a.download = filename;\n",
              "      div.appendChild(a);\n",
              "      a.click();\n",
              "      div.remove();\n",
              "    }\n",
              "  "
            ]
          },
          "metadata": {}
        },
        {
          "output_type": "display_data",
          "data": {
            "text/plain": [
              "<IPython.core.display.Javascript object>"
            ],
            "application/javascript": [
              "download(\"download_506fb505-2994-4f34-b292-2aa702679d21\", \"fees.csv\", 1246638)"
            ]
          },
          "metadata": {}
        }
      ]
    },
    {
      "cell_type": "code",
      "source": [
        "import pandas as pd\n",
        "import random\n",
        "import os\n",
        "\n",
        "# Load college list\n",
        "df_colleges = pd.read_csv(\"college_list.csv\")\n",
        "colleges = df_colleges[\"Code\"].tolist()\n",
        "\n",
        "branches = [\n",
        "    \"Computer Science and Engineering\",\n",
        "    \"Information Science and Engineering\",\n",
        "    \"Electronics and Communication Engineering\",\n",
        "    \"Electrical and Electronics Engineering\",\n",
        "    \"Mechanical Engineering\",\n",
        "    \"Civil Engineering\",\n",
        "    \"Artificial Intelligence and Data Science\",\n",
        "    \"Biotechnology\",\n",
        "    \"Data Science\",\n",
        "    \"Robotics and Automation Engineering\",\n",
        "    \"Aerospace Engineering\",\n",
        "    \"Chemical Engineering\"\n",
        "]\n",
        "\n",
        "years = [2023, 2024]\n",
        "\n",
        "company_pool = {\n",
        "    \"Tech\": [\"Google\", \"Microsoft\", \"Adobe\", \"Cisco\", \"Infosys\", \"Wipro\", \"TCS\", \"SAP Labs\", \"Amazon\", \"Flipkart\"],\n",
        "    \"Core\": [\"Bosch\", \"Tata Motors\", \"L&T\", \"Siemens\", \"ABB\", \"GE\", \"HAL\", \"BEL\"],\n",
        "    \"Bio\": [\"Biocon\", \"Serum Institute\", \"Cipla\", \"Novartis\", \"Pfizer\"],\n",
        "    \"Aero\": [\"DRDO\", \"ISRO\", \"Airbus\", \"Boeing\", \"Safran\"]\n",
        "}\n",
        "\n",
        "def get_companies(branch):\n",
        "    if \"Computer\" in branch or \"Data\" in branch or \"AI\" in branch:\n",
        "        return random.sample(company_pool[\"Tech\"], k=3)\n",
        "    elif \"Mech\" in branch or \"Civil\" in branch or \"Elec\" in branch:\n",
        "        return random.sample(company_pool[\"Core\"], k=3)\n",
        "    elif \"Bio\" in branch or \"Chemical\" in branch:\n",
        "        return random.sample(company_pool[\"Bio\"], k=3)\n",
        "    elif \"Aero\" in branch or \"Robotics\" in branch:\n",
        "        return random.sample(company_pool[\"Aero\"], k=3)\n",
        "    else:\n",
        "        return random.sample(company_pool[\"Tech\"] + company_pool[\"Core\"], k=3)\n",
        "\n",
        "# Generate records\n",
        "records = []\n",
        "for clg in colleges:\n",
        "    for branch in branches:\n",
        "        for year in years:\n",
        "            avg_package = round(random.uniform(3.0, 10.0), 1)\n",
        "            max_package = round(avg_package + random.uniform(5, 45), 1)\n",
        "            nirf_rank = random.randint(50, 300)\n",
        "            top_companies = \", \".join(get_companies(branch))\n",
        "            records.append([clg, branch, year, avg_package, max_package, nirf_rank, top_companies])\n",
        "\n",
        "# Save DataFrame\n",
        "df_place = pd.DataFrame(records, columns=[\n",
        "    \"College\", \"Branch\", \"Year\", \"Avg_Package_LPA\",\n",
        "    \"Max_Package_LPA\", \"NIRF_Rank\", \"Top_Companies\"\n",
        "])\n",
        "\n",
        "os.makedirs(\"data\", exist_ok=True)\n",
        "df_place.to_csv(\"data/placements.csv\", index=False)\n",
        "\n",
        "print(f\"✅ placements.csv generated with {len(df_place)} rows.\")\n"
      ],
      "metadata": {
        "colab": {
          "base_uri": "https://localhost:8080/"
        },
        "id": "MOuwQRankTyw",
        "outputId": "87bd69d0-f52e-45ce-f5f2-9b2f01299941"
      },
      "execution_count": 13,
      "outputs": [
        {
          "output_type": "stream",
          "name": "stdout",
          "text": [
            "✅ placements.csv generated with 1368 rows.\n"
          ]
        }
      ]
    },
    {
      "cell_type": "code",
      "source": [
        "files.download(\"data/placements.csv\")"
      ],
      "metadata": {
        "colab": {
          "base_uri": "https://localhost:8080/",
          "height": 17
        },
        "id": "k_zvw7sTh1dy",
        "outputId": "7281244c-3ed9-4ac8-83f4-368fe78e6c51"
      },
      "execution_count": 14,
      "outputs": [
        {
          "output_type": "display_data",
          "data": {
            "text/plain": [
              "<IPython.core.display.Javascript object>"
            ],
            "application/javascript": [
              "\n",
              "    async function download(id, filename, size) {\n",
              "      if (!google.colab.kernel.accessAllowed) {\n",
              "        return;\n",
              "      }\n",
              "      const div = document.createElement('div');\n",
              "      const label = document.createElement('label');\n",
              "      label.textContent = `Downloading \"${filename}\": `;\n",
              "      div.appendChild(label);\n",
              "      const progress = document.createElement('progress');\n",
              "      progress.max = size;\n",
              "      div.appendChild(progress);\n",
              "      document.body.appendChild(div);\n",
              "\n",
              "      const buffers = [];\n",
              "      let downloaded = 0;\n",
              "\n",
              "      const channel = await google.colab.kernel.comms.open(id);\n",
              "      // Send a message to notify the kernel that we're ready.\n",
              "      channel.send({})\n",
              "\n",
              "      for await (const message of channel.messages) {\n",
              "        // Send a message to notify the kernel that we're ready.\n",
              "        channel.send({})\n",
              "        if (message.buffers) {\n",
              "          for (const buffer of message.buffers) {\n",
              "            buffers.push(buffer);\n",
              "            downloaded += buffer.byteLength;\n",
              "            progress.value = downloaded;\n",
              "          }\n",
              "        }\n",
              "      }\n",
              "      const blob = new Blob(buffers, {type: 'application/binary'});\n",
              "      const a = document.createElement('a');\n",
              "      a.href = window.URL.createObjectURL(blob);\n",
              "      a.download = filename;\n",
              "      div.appendChild(a);\n",
              "      a.click();\n",
              "      div.remove();\n",
              "    }\n",
              "  "
            ]
          },
          "metadata": {}
        },
        {
          "output_type": "display_data",
          "data": {
            "text/plain": [
              "<IPython.core.display.Javascript object>"
            ],
            "application/javascript": [
              "download(\"download_d6acbabd-404a-414a-8733-0e6b0edd8aa0\", \"placements.csv\", 103928)"
            ]
          },
          "metadata": {}
        }
      ]
    },
    {
      "cell_type": "code",
      "source": [],
      "metadata": {
        "id": "r5fRnxMRgdgp"
      },
      "execution_count": null,
      "outputs": []
    }
  ]
}